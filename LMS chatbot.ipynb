{
 "cells": [
  {
   "cell_type": "code",
   "execution_count": 1,
   "metadata": {},
   "outputs": [],
   "source": [
    "from tkinter import *\n",
    "root=Tk()\n",
    "root.title(\"Main page\")\n",
    "root.geometry(\"1100x700\")\n",
    "root.configure(bg='white')\n",
    "frame = Frame(root)\n",
    "frame.pack()\n",
    "scrollbar = Scrollbar(root)\n",
    "scrollbar.pack( side = RIGHT, fill = Y)\n",
    "photo=PhotoImage(file=\"lpu.png\")\n",
    "pix=Label(image=photo,bg='orange',width=1100,height=250)\n",
    "pix.pack()\n",
    "text=Label(root,text=\"Welcome to Central Library\",font=(\"Helvetica\", 32),pady=10,bg='white')\n",
    "text.pack()\n",
    "L1=Label(root, text=\"Registration Number\",font=(\"Helvetica\", 16),padx=150,pady=2,bg='white')\n",
    "L1.pack( side=LEFT)\n",
    "E1 = Entry(root,width=20, font=(\"Helvetica\", 16),bd =5)\n",
    "E1.pack(side=LEFT)\n",
    "root.mainloop()"
   ]
  },
  {
   "cell_type": "code",
   "execution_count": null,
   "metadata": {},
   "outputs": [],
   "source": []
  }
 ],
 "metadata": {
  "kernelspec": {
   "display_name": "Python 3",
   "language": "python",
   "name": "python3"
  },
  "language_info": {
   "codemirror_mode": {
    "name": "ipython",
    "version": 3
   },
   "file_extension": ".py",
   "mimetype": "text/x-python",
   "name": "python",
   "nbconvert_exporter": "python",
   "pygments_lexer": "ipython3",
   "version": "3.7.3"
  }
 },
 "nbformat": 4,
 "nbformat_minor": 2
}
