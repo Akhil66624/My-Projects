{
 "cells": [
  {
   "cell_type": "code",
   "execution_count": 80,
   "metadata": {},
   "outputs": [],
   "source": [
    "from tkinter import *\n",
    "from tkinter import messagebox \n",
    "class Library:\n",
    "    def check(self):\n",
    "        if E1.get()==\"11807889\" and E2.get()==\"12345\":\n",
    "            root.destroy()\n",
    "            w1=Tk()\n",
    "            w1.title(\"Main Page\")\n",
    "            w1.geometry(\"1100x700\")\n",
    "            w1.configure(bg='lite orange')\n",
    "        else:\n",
    "            messagebox.showerror(\"Login Failed\", \"Sorry! Please enter the valid credentials\")\n",
    "            #L3=Label(root, text=\"Sorry! Please enter the valid credentials\",font=(\"Helvetica\", 16),padx=150,pady=2,bg='white')\n",
    "            #L3.place(x=100,y=700)\n",
    "l1=Library()         \n",
    "root=Tk()\n",
    "root.title(\"Login page\")\n",
    "root.geometry(\"1100x700\")\n",
    "root.configure(bg='white')\n",
    "frame = Frame(root)\n",
    "frame.pack()\n",
    "scrollbar = Scrollbar(root)\n",
    "scrollbar.pack( side = RIGHT, fill = Y)\n",
    "photo=PhotoImage(file=\"lpu.png\")\n",
    "pix=Label(image=photo,bg='orange',width=1100,height=250)\n",
    "pix.pack()\n",
    "text=Label(root,text=\"Welcome to Central Library\",font=(\"Helvetica\", 32),pady=10,bg='white')\n",
    "text.pack()\n",
    "L1=Label(root, text=\"Registration Number\",font=(\"Helvetica\", 16),padx=150,pady=2,bg='white')\n",
    "L1.pack( side=LEFT)\n",
    "E1 = Entry(root,width=20, font=(\"Helvetica\", 16),bd =5)\n",
    "E1.pack(side=LEFT)\n",
    "L2=Label(root, text=\"Password\",font=(\"Helvetica\", 16),padx=150,pady=2,bg='white')\n",
    "L2.place(x=100,y=600)\n",
    "E2 = Entry(root,width=20, font=(\"Helvetica\", 16),bd =5,show=\"*\")\n",
    "E2.place(x=500,y=600)\n",
    "B1=Button(root,text=\"Login\",bg='orange',width=30,pady=10,command=l1.check())\n",
    "B1.place(x=450,y=650)\n",
    "root.mainloop()"
   ]
  },
  {
   "cell_type": "code",
   "execution_count": null,
   "metadata": {},
   "outputs": [],
   "source": []
  },
  {
   "cell_type": "code",
   "execution_count": null,
   "metadata": {},
   "outputs": [],
   "source": []
  },
  {
   "cell_type": "code",
   "execution_count": 46,
   "metadata": {},
   "outputs": [],
   "source": [
    "import tkinter\n",
    "from tkinter import messagebox\n",
    "\n",
    "top =Tk()\n",
    "\n",
    "def helloCallBack():\n",
    "    messagebox.showinfo( \"Hello Python\", \"Hello World\")\n",
    "\n",
    "B = Button(top, text =\"Hello\", command = helloCallBack)\n",
    "\n",
    "B.pack()\n",
    "top.mainloop()"
   ]
  },
  {
   "cell_type": "code",
   "execution_count": null,
   "metadata": {},
   "outputs": [],
   "source": []
  }
 ],
 "metadata": {
  "kernelspec": {
   "display_name": "Python 3",
   "language": "python",
   "name": "python3"
  },
  "language_info": {
   "codemirror_mode": {
    "name": "ipython",
    "version": 3
   },
   "file_extension": ".py",
   "mimetype": "text/x-python",
   "name": "python",
   "nbconvert_exporter": "python",
   "pygments_lexer": "ipython3",
   "version": "3.7.3"
  }
 },
 "nbformat": 4,
 "nbformat_minor": 2
}
